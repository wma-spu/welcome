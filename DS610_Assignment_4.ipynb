{
  "nbformat": 4,
  "nbformat_minor": 0,
  "metadata": {
    "colab": {
      "name": "DS610 Assignment 4.ipynb",
      "provenance": [],
      "collapsed_sections": [],
      "authorship_tag": "ABX9TyPAPgwe1qATrBw8ZmUnXdx7",
      "include_colab_link": true
    },
    "kernelspec": {
      "display_name": "Python 3",
      "name": "python3"
    },
    "language_info": {
      "name": "python"
    }
  },
  "cells": [
    {
      "cell_type": "markdown",
      "metadata": {
        "id": "view-in-github",
        "colab_type": "text"
      },
      "source": [
        "<a href=\"https://colab.research.google.com/github/wma-spu/welcome/blob/main/DS610_Assignment_4.ipynb\" target=\"_parent\"><img src=\"https://colab.research.google.com/assets/colab-badge.svg\" alt=\"Open In Colab\"/></a>"
      ]
    },
    {
      "cell_type": "code",
      "metadata": {
        "colab": {
          "base_uri": "https://localhost:8080/"
        },
        "id": "0tCwqIQ5BtVy",
        "outputId": "0033c2b1-638d-415c-8a41-7d6694c66979"
      },
      "source": [
        "# install java libs and spark.\n",
        "!apt update > /dev/null\n",
        "!apt-get install openjdk-8-jdk-headless -qq > /dev/null\n",
        "!wget -q https://downloads.apache.org/spark/spark-3.1.2/spark-3.1.2-bin-hadoop3.2.tgz\n",
        "!tar xf spark-3.1.2-bin-hadoop3.2.tgz\n",
        "!pip install -q findspark"
      ],
      "execution_count": null,
      "outputs": [
        {
          "output_type": "stream",
          "text": [
            "\n",
            "WARNING: apt does not have a stable CLI interface. Use with caution in scripts.\n",
            "\n"
          ],
          "name": "stdout"
        }
      ]
    },
    {
      "cell_type": "code",
      "metadata": {
        "id": "Skcfu1AKCs2O"
      },
      "source": [
        "# set environment variables for java and spark\n",
        "import os\n",
        "os.environ[\"JAVA_HOME\"] = \"/usr/lib/jvm/java-8-openjdk-amd64\"\n",
        "os.environ[\"SPARK_HOME\"] = \"/content/spark-3.1.2-bin-hadoop3.2\"\n",
        "# add pyspark to sys.path\n",
        "import findspark\n",
        "findspark.init()"
      ],
      "execution_count": null,
      "outputs": []
    },
    {
      "cell_type": "code",
      "metadata": {
        "colab": {
          "base_uri": "https://localhost:8080/"
        },
        "id": "LpCktUocCtHO",
        "outputId": "a71397a7-58fa-4bd6-cdd5-14893b67a725"
      },
      "source": [
        "from google.colab import drive\n",
        "drive.mount('/content/drive')"
      ],
      "execution_count": null,
      "outputs": [
        {
          "output_type": "stream",
          "text": [
            "Mounted at /content/drive\n"
          ],
          "name": "stdout"
        }
      ]
    },
    {
      "cell_type": "code",
      "metadata": {
        "id": "iBiQRAAuCtQg"
      },
      "source": [
        "from pyspark.sql import SparkSession\n",
        "spark = SparkSession.builder.master(\"local[*]\").getOrCreate()"
      ],
      "execution_count": null,
      "outputs": []
    },
    {
      "cell_type": "code",
      "metadata": {
        "colab": {
          "base_uri": "https://localhost:8080/"
        },
        "id": "9sn5AH99CtUJ",
        "outputId": "61862ac3-5633-428e-f83c-0503e2d60641"
      },
      "source": [
        "dataFrame = spark.read.format(\"CSV\").option(\"header\",\"true\").load('/content/drive/MyDrive/AirlineInfo/*.csv.bz2')\n",
        "dataFrame.show(5)\n",
        "dataFrame.printSchema()"
      ],
      "execution_count": null,
      "outputs": [
        {
          "output_type": "stream",
          "text": [
            "+----+-----+----------+---------+-------+----------+-------+----------+-------------+---------+-------+-----------------+--------------+-------+--------+--------+------+----+--------+------+-------+---------+----------------+--------+------------+------------+--------+-------------+-----------------+\n",
            "|Year|Month|DayofMonth|DayOfWeek|DepTime|CRSDepTime|ArrTime|CRSArrTime|UniqueCarrier|FlightNum|TailNum|ActualElapsedTime|CRSElapsedTime|AirTime|ArrDelay|DepDelay|Origin|Dest|Distance|TaxiIn|TaxiOut|Cancelled|CancellationCode|Diverted|CarrierDelay|WeatherDelay|NASDelay|SecurityDelay|LateAircraftDelay|\n",
            "+----+-----+----------+---------+-------+----------+-------+----------+-------------+---------+-------+-----------------+--------------+-------+--------+--------+------+----+--------+------+-------+---------+----------------+--------+------------+------------+--------+-------------+-----------------+\n",
            "|2007|    1|         1|        1|   1232|      1225|   1341|      1340|           WN|     2891|   N351|               69|            75|     54|       1|       7|   SMF| ONT|     389|     4|     11|        0|            null|       0|           0|           0|       0|            0|                0|\n",
            "|2007|    1|         1|        1|   1918|      1905|   2043|      2035|           WN|      462|   N370|               85|            90|     74|       8|      13|   SMF| PDX|     479|     5|      6|        0|            null|       0|           0|           0|       0|            0|                0|\n",
            "|2007|    1|         1|        1|   2206|      2130|   2334|      2300|           WN|     1229|   N685|               88|            90|     73|      34|      36|   SMF| PDX|     479|     6|      9|        0|            null|       0|           3|           0|       0|            0|               31|\n",
            "|2007|    1|         1|        1|   1230|      1200|   1356|      1330|           WN|     1355|   N364|               86|            90|     75|      26|      30|   SMF| PDX|     479|     3|      8|        0|            null|       0|          23|           0|       0|            0|                3|\n",
            "|2007|    1|         1|        1|    831|       830|    957|      1000|           WN|     2278|   N480|               86|            90|     74|      -3|       1|   SMF| PDX|     479|     3|      9|        0|            null|       0|           0|           0|       0|            0|                0|\n",
            "+----+-----+----------+---------+-------+----------+-------+----------+-------------+---------+-------+-----------------+--------------+-------+--------+--------+------+----+--------+------+-------+---------+----------------+--------+------------+------------+--------+-------------+-----------------+\n",
            "only showing top 5 rows\n",
            "\n",
            "root\n",
            " |-- Year: string (nullable = true)\n",
            " |-- Month: string (nullable = true)\n",
            " |-- DayofMonth: string (nullable = true)\n",
            " |-- DayOfWeek: string (nullable = true)\n",
            " |-- DepTime: string (nullable = true)\n",
            " |-- CRSDepTime: string (nullable = true)\n",
            " |-- ArrTime: string (nullable = true)\n",
            " |-- CRSArrTime: string (nullable = true)\n",
            " |-- UniqueCarrier: string (nullable = true)\n",
            " |-- FlightNum: string (nullable = true)\n",
            " |-- TailNum: string (nullable = true)\n",
            " |-- ActualElapsedTime: string (nullable = true)\n",
            " |-- CRSElapsedTime: string (nullable = true)\n",
            " |-- AirTime: string (nullable = true)\n",
            " |-- ArrDelay: string (nullable = true)\n",
            " |-- DepDelay: string (nullable = true)\n",
            " |-- Origin: string (nullable = true)\n",
            " |-- Dest: string (nullable = true)\n",
            " |-- Distance: string (nullable = true)\n",
            " |-- TaxiIn: string (nullable = true)\n",
            " |-- TaxiOut: string (nullable = true)\n",
            " |-- Cancelled: string (nullable = true)\n",
            " |-- CancellationCode: string (nullable = true)\n",
            " |-- Diverted: string (nullable = true)\n",
            " |-- CarrierDelay: string (nullable = true)\n",
            " |-- WeatherDelay: string (nullable = true)\n",
            " |-- NASDelay: string (nullable = true)\n",
            " |-- SecurityDelay: string (nullable = true)\n",
            " |-- LateAircraftDelay: string (nullable = true)\n",
            "\n"
          ],
          "name": "stdout"
        }
      ]
    },
    {
      "cell_type": "code",
      "metadata": {
        "id": "-4x_0yB2oMeL"
      },
      "source": [
        "dataFrame = dataFrame.withColumn(\"ArrDelay\",dataFrame.ArrDelay.cast('integer')) \\\n",
        "                     .withColumn(\"DepDelay\",dataFrame.DepDelay.cast('integer')) \\\n",
        "                     .withColumn(\"Cancelled\",dataFrame.Cancelled.cast('integer'))\n",
        "dataFrame = dataFrame[['UniqueCarrier', 'FlightNum', 'Origin', 'Dest', 'DayofMonth', 'DayOfWeek', 'ArrDelay', 'DepDelay', 'Cancelled']]"
      ],
      "execution_count": null,
      "outputs": []
    },
    {
      "cell_type": "code",
      "metadata": {
        "colab": {
          "base_uri": "https://localhost:8080/"
        },
        "id": "wmtVxuI1tlkS",
        "outputId": "4bcce44f-1ae7-4be0-8a01-1eeb871bff23"
      },
      "source": [
        "dataFrame.show(5)\n",
        "dataFrame.printSchema()\n",
        "dataFrameCache = dataFrame.cache()"
      ],
      "execution_count": null,
      "outputs": [
        {
          "output_type": "stream",
          "text": [
            "+-------------+---------+------+----+----------+---------+--------+--------+---------+\n",
            "|UniqueCarrier|FlightNum|Origin|Dest|DayofMonth|DayOfWeek|ArrDelay|DepDelay|Cancelled|\n",
            "+-------------+---------+------+----+----------+---------+--------+--------+---------+\n",
            "|           WN|     2891|   SMF| ONT|         1|        1|       1|       7|        0|\n",
            "|           WN|      462|   SMF| PDX|         1|        1|       8|      13|        0|\n",
            "|           WN|     1229|   SMF| PDX|         1|        1|      34|      36|        0|\n",
            "|           WN|     1355|   SMF| PDX|         1|        1|      26|      30|        0|\n",
            "|           WN|     2278|   SMF| PDX|         1|        1|      -3|       1|        0|\n",
            "+-------------+---------+------+----+----------+---------+--------+--------+---------+\n",
            "only showing top 5 rows\n",
            "\n",
            "root\n",
            " |-- UniqueCarrier: string (nullable = true)\n",
            " |-- FlightNum: string (nullable = true)\n",
            " |-- Origin: string (nullable = true)\n",
            " |-- Dest: string (nullable = true)\n",
            " |-- DayofMonth: string (nullable = true)\n",
            " |-- DayOfWeek: string (nullable = true)\n",
            " |-- ArrDelay: integer (nullable = true)\n",
            " |-- DepDelay: integer (nullable = true)\n",
            " |-- Cancelled: integer (nullable = true)\n",
            "\n"
          ],
          "name": "stdout"
        }
      ]
    },
    {
      "cell_type": "code",
      "metadata": {
        "id": "dfYQAKmkWDLh"
      },
      "source": [
        "from pyspark.sql.functions import sum\n",
        "dataFrameCache = dataFrame.groupBy(['UniqueCarrier', 'FlightNum', 'Origin', 'Dest', 'DayofMonth', 'DayofWeek']) \\\n",
        "                     .agg(sum('ArrDelay').alias(\"sum_ArrDelay\"), \\\n",
        "                          count('ArrDelay').alias('flight_Count'), \\\n",
        "                          count(lit(when(col('ArrDelay') <= 0, 1))).alias(\"count_Ontime\"), \\\n",
        "                          sum('DepDelay').alias(\"sum_DepDelay\"), \\\n",
        "                          sum('Cancelled').alias(\"sum_Cancelled\")\n",
        "                          ).cache()"
      ],
      "execution_count": 35,
      "outputs": []
    },
    {
      "cell_type": "code",
      "metadata": {
        "colab": {
          "base_uri": "https://localhost:8080/"
        },
        "id": "c0LBo55ovlPm",
        "outputId": "ca4a9a17-30f3-4d0b-afab-e228a1ca2f55"
      },
      "source": [
        "dataFrameCache.show(10)"
      ],
      "execution_count": 39,
      "outputs": [
        {
          "output_type": "stream",
          "text": [
            "+-------------+---------+------+----+----------+---------+------------+------------+------------+------------+-------------+\n",
            "|UniqueCarrier|FlightNum|Origin|Dest|DayofMonth|DayofWeek|sum_ArrDelay|flight_Count|count_Ontime|sum_DepDelay|sum_Cancelled|\n",
            "+-------------+---------+------+----+----------+---------+------------+------------+------------+------------+-------------+\n",
            "|           WN|     2083|   SMF| SAN|         1|        1|          57|           2|           1|          69|            0|\n",
            "|           WN|     2535|   STL| MDW|         1|        1|          -3|           5|           3|          21|            0|\n",
            "|           WN|      484|   BWI| MDW|         2|        2|         -11|           1|           1|           4|            0|\n",
            "|           WN|        8|   DAL| AMA|         2|        2|          -8|           3|           2|          -1|            1|\n",
            "|           WN|     1300|   DEN| PHX|         2|        2|          43|           2|           1|          56|            0|\n",
            "|           WN|      617|   FLL| TPA|         2|        2|          -8|           1|           1|          -1|            1|\n",
            "|           WN|      925|   LAX| SLC|         2|        2|         -21|           5|           4|           1|            0|\n",
            "|           WN|     1921|   MDW| CMH|         2|        2|           3|           1|           0|           1|            0|\n",
            "|           WN|     2228|   MDW| MCO|         2|        2|         -37|           3|           3|          -1|            0|\n",
            "|           WN|     1108|   ONT| PHX|         2|        2|          23|           2|           0|          15|            0|\n",
            "+-------------+---------+------+----+----------+---------+------------+------------+------------+------------+-------------+\n",
            "only showing top 10 rows\n",
            "\n"
          ],
          "name": "stdout"
        }
      ]
    },
    {
      "cell_type": "code",
      "metadata": {
        "colab": {
          "base_uri": "https://localhost:8080/"
        },
        "id": "q1S9ORX4zerl",
        "outputId": "653986bf-feb1-447b-9f9e-22eb6591348c"
      },
      "source": [
        "dataFrameWeekCache = dataFrameCache.groupBy(['UniqueCarrier', 'FlightNum', 'Origin', 'Dest', 'DayofWeek']) \\\n",
        "                     .agg(sum('sum_ArrDelay').alias(\"sum_ArrDelay\"), \\\n",
        "                          sum('flight_Count').alias('flight_Count'), \\\n",
        "                          sum('sum_DepDelay').alias(\"sum_DepDelay\"), \\\n",
        "                          sum('sum_Cancelled').alias(\"sum_Cancelled\"), \\\n",
        "                          sum('count_Ontime').alias(\"count_Ontime\")\n",
        "                          ).cache()\n",
        "dataFrameWeekCache.show(10)"
      ],
      "execution_count": 37,
      "outputs": [
        {
          "output_type": "stream",
          "text": [
            "+-------------+---------+------+----+---------+------------+------------+------------+-------------+------------+\n",
            "|UniqueCarrier|FlightNum|Origin|Dest|DayofWeek|sum_ArrDelay|flight_Count|sum_DepDelay|sum_Cancelled|count_Ontime|\n",
            "+-------------+---------+------+----+---------+------------+------------+------------+-------------+------------+\n",
            "|           9E|     2955|   CID| DTW|        3|         770|          78|         909|            4|          52|\n",
            "|           9E|     2990|   DTW| CVG|        7|          85|          17|         106|            0|           9|\n",
            "|           9E|     5654|   PIT| MSP|        7|         -51|          24|          31|            2|          12|\n",
            "|           9E|     5936|   MEM| MOB|        7|          36|          10|          59|            0|           7|\n",
            "|           9E|     5961|   TLH| MEM|        6|          98|          19|          90|            0|          10|\n",
            "|           AA|     1344|   DFW| OMA|        4|         717|          38|         438|            0|          14|\n",
            "|           AA|     1771|   FLL| DFW|        4|         232|          39|         359|            0|          27|\n",
            "|           AA|     2272|   DFW| RDU|        6|         301|          15|         367|            2|           7|\n",
            "|           AA|     2453|   PHL| DFW|        4|          11|          26|          32|            0|          16|\n",
            "|           AA|      334|   DFW| BNA|        6|         604|         512|        1060|            7|         330|\n",
            "+-------------+---------+------+----+---------+------------+------------+------------+-------------+------------+\n",
            "only showing top 10 rows\n",
            "\n"
          ],
          "name": "stdout"
        }
      ]
    },
    {
      "cell_type": "markdown",
      "metadata": {
        "id": "eJvUDq2awhYY"
      },
      "source": [
        "\n",
        "\n",
        "**1.   Find the # of flights each airline made so far from 1987 until recent.**\n",
        "\n",
        "\n",
        "\n"
      ]
    },
    {
      "cell_type": "code",
      "metadata": {
        "colab": {
          "base_uri": "https://localhost:8080/"
        },
        "id": "zDtc0iPRCtZ4",
        "outputId": "92f6b204-adc4-47ab-8861-0db95764e58f"
      },
      "source": [
        "countDF = dataFrameWeekCache.groupBy(['UniqueCarrier', 'FlightNum']).sum('flight_Count')\n",
        "countDF.show(20)"
      ],
      "execution_count": 23,
      "outputs": [
        {
          "output_type": "stream",
          "text": [
            "+-------------+---------+-----------------+\n",
            "|UniqueCarrier|FlightNum|sum(flight_Count)|\n",
            "+-------------+---------+-----------------+\n",
            "|           9E|     2955|              673|\n",
            "|           OH|     5407|             1704|\n",
            "|           EV|     4829|              952|\n",
            "|           AA|     1670|             4811|\n",
            "|           UA|      354|            12959|\n",
            "|           WN|      563|            16744|\n",
            "|           CO|     1299|             3260|\n",
            "|           AS|       59|             1930|\n",
            "|           DL|     1128|             8954|\n",
            "|           AS|      548|             2703|\n",
            "|           UA|     1667|             4255|\n",
            "|           AA|     1046|             9991|\n",
            "|           UA|     2060|             2461|\n",
            "|           NW|     1292|             4536|\n",
            "|           US|     1878|             2859|\n",
            "|           DL|     1717|            16589|\n",
            "|           WN|      116|            10031|\n",
            "|           9E|     5736|             1123|\n",
            "|           WN|      179|             7355|\n",
            "|           UA|     1038|             3564|\n",
            "+-------------+---------+-----------------+\n",
            "only showing top 20 rows\n",
            "\n"
          ],
          "name": "stdout"
        }
      ]
    },
    {
      "cell_type": "markdown",
      "metadata": {
        "id": "79UpwuorwSIJ"
      },
      "source": [
        "**2.   Find the mean departure delay per origination airport.**"
      ]
    },
    {
      "cell_type": "code",
      "metadata": {
        "colab": {
          "base_uri": "https://localhost:8080/"
        },
        "id": "PSnOjcCNCteG",
        "outputId": "3151aca1-c5dd-4574-9229-afbe96a24a55"
      },
      "source": [
        "delayDF = dataFrameWeekCache.groupBy(['Origin']).agg((sum('sum_DepDelay')/sum('flight_Count')).alias('mean_DepDelay'))\n",
        "delayDF.show(20)\n",
        "delayDFCache = delayDF.cache()"
      ],
      "execution_count": 25,
      "outputs": [
        {
          "output_type": "stream",
          "text": [
            "+------+------------------+\n",
            "|Origin|     mean_DepDelay|\n",
            "+------+------------------+\n",
            "|   BGM| 4.110733137829912|\n",
            "|   INL| 6.168539325842697|\n",
            "|   DLG|10.881406819644006|\n",
            "|   PSE|1.9634060520760028|\n",
            "|   MSY| 6.569657564304317|\n",
            "|   GEG| 6.051149022117038|\n",
            "|   SNA|  5.82793990516695|\n",
            "|   BUR| 6.715111222334418|\n",
            "|   GRB| 4.692966027358289|\n",
            "|   GTF|3.1398351142995704|\n",
            "|   IDA|3.0275397097474572|\n",
            "|   GRR|   5.6374587269899|\n",
            "|   LWB| 7.633272616879174|\n",
            "|   PVU|               0.0|\n",
            "|   EUG| 7.970336079215675|\n",
            "|   PSG| 13.28594053703837|\n",
            "|   MYR| 5.598720551147198|\n",
            "|   PVD|6.8015787129866565|\n",
            "|   GSO| 7.045275339185953|\n",
            "|   ISO| 5.764848905870093|\n",
            "+------+------------------+\n",
            "only showing top 20 rows\n",
            "\n"
          ],
          "name": "stdout"
        }
      ]
    },
    {
      "cell_type": "markdown",
      "metadata": {
        "id": "JmePU8iWkyPS"
      },
      "source": [
        "**3. What day the delays are the worst?**"
      ]
    },
    {
      "cell_type": "code",
      "metadata": {
        "colab": {
          "base_uri": "https://localhost:8080/"
        },
        "id": "2mXnfGCCLJ7b",
        "outputId": "cbcf34ac-8a7e-4951-d8e3-a2e1c594b4ac"
      },
      "source": [
        "dataFrameWeekCache.createOrReplaceTempView(\"AIRLINESINFO\")\n",
        "spark.sql(\"select DayOfWeek, sum(sum_DepDelay)/sum(flight_Count) as avg_delay from AIRLINESINFO \" +\n",
        "          \"group by DayOfWeek order by avg_delay desc\").show(1)"
      ],
      "execution_count": 26,
      "outputs": [
        {
          "output_type": "stream",
          "text": [
            "+---------+------------------+\n",
            "|DayOfWeek|         avg_delay|\n",
            "+---------+------------------+\n",
            "|        5|10.176362510686959|\n",
            "+---------+------------------+\n",
            "only showing top 1 row\n",
            "\n"
          ],
          "name": "stdout"
        }
      ]
    },
    {
      "cell_type": "markdown",
      "metadata": {
        "id": "r451yk7gk8T1"
      },
      "source": [
        "**4. What is the average departure delay from each airport?**"
      ]
    },
    {
      "cell_type": "code",
      "metadata": {
        "colab": {
          "base_uri": "https://localhost:8080/"
        },
        "id": "H9s82ImIvWvc",
        "outputId": "960c60b3-cd57-4c66-cda7-52411d370863"
      },
      "source": [
        "# This is same as question #2. Find the mean departure delay per origination airport.\n",
        "delayDFCache.show(20)"
      ],
      "execution_count": 28,
      "outputs": [
        {
          "output_type": "stream",
          "text": [
            "+------+------------------+\n",
            "|Origin|     mean_DepDelay|\n",
            "+------+------------------+\n",
            "|   BGM| 4.110733137829912|\n",
            "|   INL| 6.168539325842697|\n",
            "|   DLG|10.881406819644006|\n",
            "|   PSE|1.9634060520760028|\n",
            "|   MSY| 6.569657564304317|\n",
            "|   GEG| 6.051149022117038|\n",
            "|   SNA|  5.82793990516695|\n",
            "|   BUR| 6.715111222334418|\n",
            "|   GRB| 4.692966027358289|\n",
            "|   GTF|3.1398351142995704|\n",
            "|   IDA|3.0275397097474572|\n",
            "|   GRR|   5.6374587269899|\n",
            "|   LWB| 7.633272616879174|\n",
            "|   PVU|               0.0|\n",
            "|   EUG| 7.970336079215675|\n",
            "|   PSG| 13.28594053703837|\n",
            "|   MYR| 5.598720551147198|\n",
            "|   PVD|6.8015787129866565|\n",
            "|   GSO| 7.045275339185953|\n",
            "|   ISO| 5.764848905870093|\n",
            "+------+------------------+\n",
            "only showing top 20 rows\n",
            "\n"
          ],
          "name": "stdout"
        }
      ]
    },
    {
      "cell_type": "markdown",
      "metadata": {
        "id": "izfk7Yq0lD5f"
      },
      "source": [
        "**5. Which day of the week is the most of the flights cancelled?**"
      ]
    },
    {
      "cell_type": "code",
      "metadata": {
        "colab": {
          "base_uri": "https://localhost:8080/"
        },
        "id": "5UDXYgDD70Vl",
        "outputId": "24169af7-c046-4541-b7bc-0c0ba41f4c05"
      },
      "source": [
        "#from pyspark.sql.functions import sum, desc\n",
        "dataFrameWeekCache.groupBy(['DayOfWeek']).agg(sum('sum_Cancelled').alias('sum_Cancelled')).sort(desc('sum_Cancelled')).show(1)"
      ],
      "execution_count": 32,
      "outputs": [
        {
          "output_type": "stream",
          "text": [
            "+---------+-------------+\n",
            "|DayOfWeek|sum_Cancelled|\n",
            "+---------+-------------+\n",
            "|        2|       376554|\n",
            "+---------+-------------+\n",
            "only showing top 1 row\n",
            "\n"
          ],
          "name": "stdout"
        }
      ]
    },
    {
      "cell_type": "markdown",
      "metadata": {
        "id": "CFx7XUHulGR0"
      },
      "source": [
        "**6. Which day of the month is the most of the flights cancelled?**"
      ]
    },
    {
      "cell_type": "code",
      "metadata": {
        "colab": {
          "base_uri": "https://localhost:8080/"
        },
        "id": "5rxYrg18866b",
        "outputId": "3208476d-963f-4972-f03f-dd63b03b8674"
      },
      "source": [
        "#from pyspark.sql.functions import sum, desc\n",
        "dataFrameCache.groupBy(['DayofMonth']).agg(sum('sum_Cancelled').alias('sum_cancelled')).sort(desc('sum_cancelled')).show(1)"
      ],
      "execution_count": 33,
      "outputs": [
        {
          "output_type": "stream",
          "text": [
            "+----------+-------------+\n",
            "|DayofMonth|sum_cancelled|\n",
            "+----------+-------------+\n",
            "|        11|        99407|\n",
            "+----------+-------------+\n",
            "only showing top 1 row\n",
            "\n"
          ],
          "name": "stdout"
        }
      ]
    },
    {
      "cell_type": "markdown",
      "metadata": {
        "id": "5wgA2EdqlJnJ"
      },
      "source": [
        "**7. Find the on-time (ArrTime - CRSArrTime <= 0) performance for each unique carrier.**"
      ]
    },
    {
      "cell_type": "code",
      "metadata": {
        "colab": {
          "base_uri": "https://localhost:8080/"
        },
        "id": "8Nlojq-IlLPy",
        "outputId": "4959da77-a017-4f00-83f0-93e27f737324"
      },
      "source": [
        "from pyspark.sql.functions import when, count, col, lit, desc\n",
        "perfDF = dataFrameWeekCache.groupBy(['UniqueCarrier']).agg((sum('count_Ontime')/sum('flight_Count')).alias('performance')).sort(desc('performance'))\n",
        "perfDF.show(20)"
      ],
      "execution_count": 38,
      "outputs": [
        {
          "output_type": "stream",
          "text": [
            "+-------------+------------------+\n",
            "|UniqueCarrier|       performance|\n",
            "+-------------+------------------+\n",
            "|           HA|0.7494273599184927|\n",
            "|           AQ|0.6210604130502221|\n",
            "|           DH|0.6090800627755951|\n",
            "|           9E|0.6087752820569743|\n",
            "|           OO| 0.588394965923244|\n",
            "|           TZ| 0.586800448528448|\n",
            "|           WN|0.5744281428227538|\n",
            "|       ML (1)|0.5727513418886269|\n",
            "|           YV| 0.560270707414659|\n",
            "|           OH| 0.558461092410828|\n",
            "|           MQ|0.5579939380234537|\n",
            "|           XE|0.5532763928309629|\n",
            "|           B6|0.5479773299779632|\n",
            "|           NW|0.5479055050560616|\n",
            "|           FL|0.5449397910536645|\n",
            "|           AA|0.5380722581960554|\n",
            "|           EV|0.5255398934893043|\n",
            "|           CO|0.5241762164458178|\n",
            "|       PA (1)|0.5189862443648133|\n",
            "|           F9|0.5189850735570807|\n",
            "+-------------+------------------+\n",
            "only showing top 20 rows\n",
            "\n"
          ],
          "name": "stdout"
        }
      ]
    }
  ]
}